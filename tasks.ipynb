{
 "cells": [
  {
   "cell_type": "code",
   "execution_count": 1,
   "metadata": {},
   "outputs": [
    {
     "name": "stdout",
     "output_type": "stream",
     "text": [
      "3.7.6\n"
     ]
    }
   ],
   "source": [
    "from platform import python_version\n",
    "\n",
    "print(python_version())"
   ]
  },
  {
   "cell_type": "code",
   "execution_count": 2,
   "metadata": {},
   "outputs": [],
   "source": [
    "import tensorflow as tf"
   ]
  },
  {
   "cell_type": "code",
   "execution_count": 3,
   "metadata": {},
   "outputs": [
    {
     "name": "stdout",
     "output_type": "stream",
     "text": [
      "2.0.0\n"
     ]
    }
   ],
   "source": [
    "print(tf.__version__)"
   ]
  },
  {
   "cell_type": "code",
   "execution_count": 9,
   "metadata": {},
   "outputs": [
    {
     "name": "stdout",
     "output_type": "stream",
     "text": [
      "Using TensorFlow backend.\n",
      "WARNING:tensorflow:From /Users/ak/opt/anaconda3/envs/tf/lib/python3.7/site-packages/tensorflow_core/python/compat/v2_compat.py:65: disable_resource_variables (from tensorflow.python.ops.variable_scope) is deprecated and will be removed in a future version.\n",
      "Instructions for updating:\n",
      "non-resource variables are not supported in the long term\n",
      "DATASET: PERMUTE_MNIST\n",
      "NUM_RUNS: 5\n",
      "TRAIN_SINGLE_EPOCH: True\n",
      "IMP_METHOD: PNN\n",
      "SYNAP_STGTH: 0.0\n",
      "FISHER_EMA_DECAY: 0.9\n",
      "FISHER_UPDATE_AFTER: 10\n",
      "OPTIM: SGD\n",
      "LR: 0.1\n",
      "BATCH_SIZE: 10\n",
      "MEM_SIZE: 25\n",
      "Experimental meta-data has been snapshotted to results/mnist/PERMUTE_MNIST_HERDING_FC-S_True_PNN_0_0_'10'_25-20-03-15-16-06.txt!\n",
      "Traceback (most recent call last):\n",
      "  File \"./fc_permute_mnist.py\", line 587, in <module>\n",
      "    main()\n",
      "  File \"./fc_permute_mnist.py\", line 548, in main\n",
      "    args.fisher_ema_decay, network_arch=args.arch)\n",
      "  File \"/Users/ak/Documents/GitHub/agem/model/model.py\", line 73, in __init__\n",
      "    self.train_phase = [tf.placeholder(tf.bool, name='train_phase_%d'%(i)) for i in range(num_tasks)]\n",
      "  File \"/Users/ak/Documents/GitHub/agem/model/model.py\", line 73, in <listcomp>\n",
      "    self.train_phase = [tf.placeholder(tf.bool, name='train_phase_%d'%(i)) for i in range(num_tasks)]\n",
      "AttributeError: module 'tensorflow' has no attribute 'placeholder'\n",
      "Using TensorFlow backend.\n",
      "WARNING:tensorflow:From /Users/ak/opt/anaconda3/envs/tf/lib/python3.7/site-packages/tensorflow_core/python/compat/v2_compat.py:65: disable_resource_variables (from tensorflow.python.ops.variable_scope) is deprecated and will be removed in a future version.\n",
      "Instructions for updating:\n",
      "non-resource variables are not supported in the long term\n",
      "DATASET: PERMUTE_MNIST\n",
      "NUM_RUNS: 5\n",
      "TRAIN_SINGLE_EPOCH: True\n",
      "IMP_METHOD: A-GEM\n",
      "SYNAP_STGTH: 0.0\n",
      "FISHER_EMA_DECAY: 0.9\n",
      "FISHER_UPDATE_AFTER: 10\n",
      "OPTIM: SGD\n",
      "LR: 0.1\n",
      "BATCH_SIZE: 10\n",
      "MEM_SIZE: 25\n",
      "Experimental meta-data has been snapshotted to results/mnist/PERMUTE_MNIST_HERDING_FC-S_True_A-GEM_0_0_'10'_25-20-03-15-16-06.txt!\n",
      "Traceback (most recent call last):\n",
      "  File \"./fc_permute_mnist.py\", line 587, in <module>\n",
      "    main()\n",
      "  File \"./fc_permute_mnist.py\", line 548, in main\n",
      "    args.fisher_ema_decay, network_arch=args.arch)\n",
      "  File \"/Users/ak/Documents/GitHub/agem/model/model.py\", line 77, in __init__\n",
      "    self.train_phase = tf.placeholder(tf.bool, name='train_phase')\n",
      "AttributeError: module 'tensorflow' has no attribute 'placeholder'\n"
     ]
    }
   ],
   "source": [
    "!./replicate_results_iclr19.sh MNIST 3"
   ]
  },
  {
   "cell_type": "code",
   "execution_count": 12,
   "metadata": {},
   "outputs": [],
   "source": [
    "import tensorflow.compat.v2 as tf"
   ]
  },
  {
   "cell_type": "code",
   "execution_count": 10,
   "metadata": {},
   "outputs": [
    {
     "name": "stdout",
     "output_type": "stream",
     "text": [
      "3.4.2\n"
     ]
    }
   ],
   "source": [
    "import cv2\n",
    "print (cv2.__version__)"
   ]
  },
  {
   "cell_type": "code",
   "execution_count": null,
   "metadata": {},
   "outputs": [],
   "source": []
  }
 ],
 "metadata": {
  "kernelspec": {
   "display_name": "Python 3",
   "language": "python",
   "name": "python3"
  },
  "language_info": {
   "codemirror_mode": {
    "name": "ipython",
    "version": 3
   },
   "file_extension": ".py",
   "mimetype": "text/x-python",
   "name": "python",
   "nbconvert_exporter": "python",
   "pygments_lexer": "ipython3",
   "version": "3.7.6"
  }
 },
 "nbformat": 4,
 "nbformat_minor": 2
}
