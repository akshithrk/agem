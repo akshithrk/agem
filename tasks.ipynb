{
 "cells": [
  {
   "cell_type": "code",
   "execution_count": 1,
   "metadata": {},
   "outputs": [
    {
     "name": "stdout",
     "output_type": "stream",
     "text": [
      "3.7.4\n"
     ]
    }
   ],
   "source": [
    "from platform import python_version\n",
    "\n",
    "print(python_version())"
   ]
  },
  {
   "cell_type": "code",
   "execution_count": 1,
   "metadata": {},
   "outputs": [],
   "source": [
    "import tensorflow as tf"
   ]
  },
  {
   "cell_type": "code",
   "execution_count": 2,
   "metadata": {},
   "outputs": [
    {
     "name": "stdout",
     "output_type": "stream",
     "text": [
      "2.0.0\n"
     ]
    }
   ],
   "source": [
    "print(tf.__version__)"
   ]
  },
  {
   "cell_type": "code",
   "execution_count": 15,
   "metadata": {},
   "outputs": [
    {
     "name": "stdout",
     "output_type": "stream",
     "text": [
      "WARNING:tensorflow:From /Users/ak/opt/anaconda3/envs/tf/lib/python3.7/site-packages/tensorflow_core/python/compat/v2_compat.py:65: disable_resource_variables (from tensorflow.python.ops.variable_scope) is deprecated and will be removed in a future version.\n",
      "Instructions for updating:\n",
      "non-resource variables are not supported in the long term\n",
      "Traceback (most recent call last):\n",
      "  File \"./fc_permute_mnist.py\", line 26, in <module>\n",
      "    from utils.data_utils import construct_permute_mnist\n",
      "  File \"/Users/ak/Documents/GitHub/agem/utils/__init__.py\", line 6, in <module>\n",
      "    from .data_utils import construct_permute_mnist, construct_split_mnist, construct_split_cifar, construct_split_cub, construct_split_imagenet \n",
      "  File \"/Users/ak/Documents/GitHub/agem/utils/data_utils.py\", line 15, in <module>\n",
      "    from tensorflow.examples.tutorials.mnist import input_data\n",
      "ModuleNotFoundError: No module named 'tensorflow.examples.tutorials'\n",
      "WARNING:tensorflow:From /Users/ak/opt/anaconda3/envs/tf/lib/python3.7/site-packages/tensorflow_core/python/compat/v2_compat.py:65: disable_resource_variables (from tensorflow.python.ops.variable_scope) is deprecated and will be removed in a future version.\n",
      "Instructions for updating:\n",
      "non-resource variables are not supported in the long term\n",
      "Traceback (most recent call last):\n",
      "  File \"./fc_permute_mnist.py\", line 26, in <module>\n",
      "    from utils.data_utils import construct_permute_mnist\n",
      "  File \"/Users/ak/Documents/GitHub/agem/utils/__init__.py\", line 6, in <module>\n",
      "    from .data_utils import construct_permute_mnist, construct_split_mnist, construct_split_cifar, construct_split_cub, construct_split_imagenet \n",
      "  File \"/Users/ak/Documents/GitHub/agem/utils/data_utils.py\", line 15, in <module>\n",
      "    from tensorflow.examples.tutorials.mnist import input_data\n",
      "ModuleNotFoundError: No module named 'tensorflow.examples.tutorials'\n"
     ]
    }
   ],
   "source": [
    "!./replicate_results_iclr19.sh MNIST 3"
   ]
  },
  {
   "cell_type": "code",
   "execution_count": 12,
   "metadata": {},
   "outputs": [],
   "source": [
    "import tensorflow.compat.v2 as tf"
   ]
  },
  {
   "cell_type": "code",
   "execution_count": 14,
   "metadata": {},
   "outputs": [],
   "source": [
    "import tensorflow_datasets as tfds"
   ]
  },
  {
   "cell_type": "code",
   "execution_count": null,
   "metadata": {},
   "outputs": [],
   "source": []
  }
 ],
 "metadata": {
  "kernelspec": {
   "display_name": "Python 3",
   "language": "python",
   "name": "python3"
  },
  "language_info": {
   "codemirror_mode": {
    "name": "ipython",
    "version": 3
   },
   "file_extension": ".py",
   "mimetype": "text/x-python",
   "name": "python",
   "nbconvert_exporter": "python",
   "pygments_lexer": "ipython3",
   "version": "3.7.6"
  }
 },
 "nbformat": 4,
 "nbformat_minor": 2
}
